{
 "cells": [
  {
   "cell_type": "code",
   "execution_count": 1,
   "id": "5d5492b7-e728-4478-8704-cab96e90ba48",
   "metadata": {
    "collapsed": true,
    "jupyter": {
     "outputs_hidden": true
    },
    "tags": []
   },
   "outputs": [
    {
     "name": "stdout",
     "output_type": "stream",
     "text": [
      "Collecting mlflow\n",
      "  Obtaining dependency information for mlflow from https://files.pythonhosted.org/packages/ce/d4/756d5cd1304fbbaac8624ce93cedba804237586d69c17ac1cdaf6daefd52/mlflow-2.10.2-py3-none-any.whl.metadata\n",
      "  Downloading mlflow-2.10.2-py3-none-any.whl.metadata (13 kB)\n",
      "Requirement already satisfied: click<9,>=7.0 in c:\\users\\admin\\anaconda3\\lib\\site-packages (from mlflow) (8.0.4)\n",
      "Requirement already satisfied: cloudpickle<4 in c:\\users\\admin\\anaconda3\\lib\\site-packages (from mlflow) (2.2.1)\n",
      "Requirement already satisfied: entrypoints<1 in c:\\users\\admin\\anaconda3\\lib\\site-packages (from mlflow) (0.4)\n",
      "Collecting gitpython<4,>=2.1.0 (from mlflow)\n",
      "  Obtaining dependency information for gitpython<4,>=2.1.0 from https://files.pythonhosted.org/packages/45/c6/a637a7a11d4619957cb95ca195168759a4502991b1b91c13d3203ffc3748/GitPython-3.1.41-py3-none-any.whl.metadata\n",
      "  Downloading GitPython-3.1.41-py3-none-any.whl.metadata (14 kB)\n",
      "Requirement already satisfied: pyyaml<7,>=5.1 in c:\\users\\admin\\anaconda3\\lib\\site-packages (from mlflow) (6.0)\n",
      "Collecting protobuf<5,>=3.12.0 (from mlflow)\n",
      "  Obtaining dependency information for protobuf<5,>=3.12.0 from https://files.pythonhosted.org/packages/c1/00/c3ae19cabb36cfabc94ff0b102aac21b471c9f91a1357f8aafffb9efe8e0/protobuf-4.25.2-cp310-abi3-win_amd64.whl.metadata\n",
      "  Downloading protobuf-4.25.2-cp310-abi3-win_amd64.whl.metadata (541 bytes)\n",
      "Requirement already satisfied: pytz<2024 in c:\\users\\admin\\anaconda3\\lib\\site-packages (from mlflow) (2023.3.post1)\n",
      "Requirement already satisfied: requests<3,>=2.17.3 in c:\\users\\admin\\anaconda3\\lib\\site-packages (from mlflow) (2.31.0)\n",
      "Requirement already satisfied: packaging<24 in c:\\users\\admin\\anaconda3\\lib\\site-packages (from mlflow) (23.1)\n",
      "Requirement already satisfied: importlib-metadata!=4.7.0,<8,>=3.7.0 in c:\\users\\admin\\anaconda3\\lib\\site-packages (from mlflow) (6.0.0)\n",
      "Collecting sqlparse<1,>=0.4.0 (from mlflow)\n",
      "  Downloading sqlparse-0.4.4-py3-none-any.whl (41 kB)\n",
      "     ---------------------------------------- 0.0/41.2 kB ? eta -:--:--\n",
      "     --------- ------------------------------ 10.2/41.2 kB ? eta -:--:--\n",
      "     ---------------------------------------- 41.2/41.2 kB 2.1 MB/s eta 0:00:00\n",
      "Collecting alembic!=1.10.0,<2 (from mlflow)\n",
      "  Obtaining dependency information for alembic!=1.10.0,<2 from https://files.pythonhosted.org/packages/7f/50/9fb3a5c80df6eb6516693270621676980acd6d5a9a7efdbfa273f8d616c7/alembic-1.13.1-py3-none-any.whl.metadata\n",
      "  Downloading alembic-1.13.1-py3-none-any.whl.metadata (7.4 kB)\n",
      "Collecting docker<8,>=4.0.0 (from mlflow)\n",
      "  Obtaining dependency information for docker<8,>=4.0.0 from https://files.pythonhosted.org/packages/18/bd/9706c10bb12e05043ef138dc8d412cfd17f29c8df0fb28ad71c96a98785d/docker-7.0.0-py3-none-any.whl.metadata\n",
      "  Downloading docker-7.0.0-py3-none-any.whl.metadata (3.5 kB)\n",
      "Requirement already satisfied: Flask<4 in c:\\users\\admin\\anaconda3\\lib\\site-packages (from mlflow) (2.2.2)\n",
      "Requirement already satisfied: numpy<2 in c:\\users\\admin\\anaconda3\\lib\\site-packages (from mlflow) (1.24.3)\n",
      "Requirement already satisfied: scipy<2 in c:\\users\\admin\\anaconda3\\lib\\site-packages (from mlflow) (1.11.1)\n",
      "Requirement already satisfied: pandas<3 in c:\\users\\admin\\anaconda3\\lib\\site-packages (from mlflow) (2.0.3)\n",
      "Collecting querystring-parser<2 (from mlflow)\n",
      "  Downloading querystring_parser-1.2.4-py2.py3-none-any.whl (7.9 kB)\n",
      "Requirement already satisfied: sqlalchemy<3,>=1.4.0 in c:\\users\\admin\\anaconda3\\lib\\site-packages (from mlflow) (1.4.39)\n",
      "Requirement already satisfied: scikit-learn<2 in c:\\users\\admin\\anaconda3\\lib\\site-packages (from mlflow) (1.3.0)\n",
      "Requirement already satisfied: pyarrow<16,>=4.0.0 in c:\\users\\admin\\anaconda3\\lib\\site-packages (from mlflow) (11.0.0)\n",
      "Requirement already satisfied: markdown<4,>=3.3 in c:\\users\\admin\\anaconda3\\lib\\site-packages (from mlflow) (3.4.1)\n",
      "Requirement already satisfied: matplotlib<4 in c:\\users\\admin\\anaconda3\\lib\\site-packages (from mlflow) (3.7.2)\n",
      "Collecting waitress<3 (from mlflow)\n",
      "  Downloading waitress-2.1.2-py3-none-any.whl (57 kB)\n",
      "     ---------------------------------------- 0.0/57.7 kB ? eta -:--:--\n",
      "     ---------------------------------------- 57.7/57.7 kB 1.5 MB/s eta 0:00:00\n",
      "Requirement already satisfied: Jinja2<4,>=3.0 in c:\\users\\admin\\anaconda3\\lib\\site-packages (from mlflow) (3.1.2)\n",
      "Collecting Mako (from alembic!=1.10.0,<2->mlflow)\n",
      "  Obtaining dependency information for Mako from https://files.pythonhosted.org/packages/2b/8d/9f11d0b9ac521febb806e7f30dc5982d0f4f5821217712c59005fbc5c1e3/Mako-1.3.2-py3-none-any.whl.metadata\n",
      "  Downloading Mako-1.3.2-py3-none-any.whl.metadata (2.9 kB)\n",
      "Requirement already satisfied: typing-extensions>=4 in c:\\users\\admin\\anaconda3\\lib\\site-packages (from alembic!=1.10.0,<2->mlflow) (4.7.1)\n",
      "Requirement already satisfied: colorama in c:\\users\\admin\\anaconda3\\lib\\site-packages (from click<9,>=7.0->mlflow) (0.4.6)\n",
      "Requirement already satisfied: urllib3>=1.26.0 in c:\\users\\admin\\anaconda3\\lib\\site-packages (from docker<8,>=4.0.0->mlflow) (1.26.16)\n",
      "Requirement already satisfied: pywin32>=304 in c:\\users\\admin\\anaconda3\\lib\\site-packages (from docker<8,>=4.0.0->mlflow) (305.1)\n",
      "Requirement already satisfied: Werkzeug>=2.2.2 in c:\\users\\admin\\anaconda3\\lib\\site-packages (from Flask<4->mlflow) (2.2.3)\n",
      "Requirement already satisfied: itsdangerous>=2.0 in c:\\users\\admin\\anaconda3\\lib\\site-packages (from Flask<4->mlflow) (2.0.1)\n",
      "Collecting gitdb<5,>=4.0.1 (from gitpython<4,>=2.1.0->mlflow)\n",
      "  Obtaining dependency information for gitdb<5,>=4.0.1 from https://files.pythonhosted.org/packages/fd/5b/8f0c4a5bb9fd491c277c21eff7ccae71b47d43c4446c9d0c6cff2fe8c2c4/gitdb-4.0.11-py3-none-any.whl.metadata\n",
      "  Downloading gitdb-4.0.11-py3-none-any.whl.metadata (1.2 kB)\n",
      "Requirement already satisfied: zipp>=0.5 in c:\\users\\admin\\anaconda3\\lib\\site-packages (from importlib-metadata!=4.7.0,<8,>=3.7.0->mlflow) (3.11.0)\n",
      "Requirement already satisfied: MarkupSafe>=2.0 in c:\\users\\admin\\anaconda3\\lib\\site-packages (from Jinja2<4,>=3.0->mlflow) (2.1.1)\n",
      "Requirement already satisfied: contourpy>=1.0.1 in c:\\users\\admin\\anaconda3\\lib\\site-packages (from matplotlib<4->mlflow) (1.0.5)\n",
      "Requirement already satisfied: cycler>=0.10 in c:\\users\\admin\\anaconda3\\lib\\site-packages (from matplotlib<4->mlflow) (0.11.0)\n",
      "Requirement already satisfied: fonttools>=4.22.0 in c:\\users\\admin\\anaconda3\\lib\\site-packages (from matplotlib<4->mlflow) (4.25.0)\n",
      "Requirement already satisfied: kiwisolver>=1.0.1 in c:\\users\\admin\\anaconda3\\lib\\site-packages (from matplotlib<4->mlflow) (1.4.4)\n",
      "Requirement already satisfied: pillow>=6.2.0 in c:\\users\\admin\\anaconda3\\lib\\site-packages (from matplotlib<4->mlflow) (9.4.0)\n",
      "Requirement already satisfied: pyparsing<3.1,>=2.3.1 in c:\\users\\admin\\anaconda3\\lib\\site-packages (from matplotlib<4->mlflow) (3.0.9)\n",
      "Requirement already satisfied: python-dateutil>=2.7 in c:\\users\\admin\\anaconda3\\lib\\site-packages (from matplotlib<4->mlflow) (2.8.2)\n",
      "Requirement already satisfied: tzdata>=2022.1 in c:\\users\\admin\\anaconda3\\lib\\site-packages (from pandas<3->mlflow) (2023.3)\n",
      "Requirement already satisfied: six in c:\\users\\admin\\anaconda3\\lib\\site-packages (from querystring-parser<2->mlflow) (1.16.0)\n",
      "Requirement already satisfied: charset-normalizer<4,>=2 in c:\\users\\admin\\anaconda3\\lib\\site-packages (from requests<3,>=2.17.3->mlflow) (2.0.4)\n",
      "Requirement already satisfied: idna<4,>=2.5 in c:\\users\\admin\\anaconda3\\lib\\site-packages (from requests<3,>=2.17.3->mlflow) (3.4)\n",
      "Requirement already satisfied: certifi>=2017.4.17 in c:\\users\\admin\\anaconda3\\lib\\site-packages (from requests<3,>=2.17.3->mlflow) (2023.7.22)\n",
      "Requirement already satisfied: joblib>=1.1.1 in c:\\users\\admin\\anaconda3\\lib\\site-packages (from scikit-learn<2->mlflow) (1.2.0)\n",
      "Requirement already satisfied: threadpoolctl>=2.0.0 in c:\\users\\admin\\anaconda3\\lib\\site-packages (from scikit-learn<2->mlflow) (2.2.0)\n",
      "Requirement already satisfied: greenlet!=0.4.17 in c:\\users\\admin\\anaconda3\\lib\\site-packages (from sqlalchemy<3,>=1.4.0->mlflow) (2.0.1)\n",
      "Collecting smmap<6,>=3.0.1 (from gitdb<5,>=4.0.1->gitpython<4,>=2.1.0->mlflow)\n",
      "  Obtaining dependency information for smmap<6,>=3.0.1 from https://files.pythonhosted.org/packages/a7/a5/10f97f73544edcdef54409f1d839f6049a0d79df68adbc1ceb24d1aaca42/smmap-5.0.1-py3-none-any.whl.metadata\n",
      "  Downloading smmap-5.0.1-py3-none-any.whl.metadata (4.3 kB)\n",
      "Downloading mlflow-2.10.2-py3-none-any.whl (19.5 MB)\n",
      "   ---------------------------------------- 0.0/19.5 MB ? eta -:--:--\n",
      "   ---------------------------------------- 0.1/19.5 MB 2.4 MB/s eta 0:00:09\n",
      "    --------------------------------------- 0.3/19.5 MB 2.6 MB/s eta 0:00:08\n",
      "    --------------------------------------- 0.4/19.5 MB 2.7 MB/s eta 0:00:08\n",
      "    --------------------------------------- 0.4/19.5 MB 2.5 MB/s eta 0:00:08\n",
      "   - -------------------------------------- 0.5/19.5 MB 2.2 MB/s eta 0:00:09\n",
      "   - -------------------------------------- 0.7/19.5 MB 2.4 MB/s eta 0:00:08\n",
      "   - -------------------------------------- 0.8/19.5 MB 2.5 MB/s eta 0:00:08\n",
      "   - -------------------------------------- 0.9/19.5 MB 2.3 MB/s eta 0:00:08\n",
      "   -- ------------------------------------- 1.1/19.5 MB 2.5 MB/s eta 0:00:08\n",
      "   -- ------------------------------------- 1.2/19.5 MB 2.5 MB/s eta 0:00:08\n",
      "   -- ------------------------------------- 1.4/19.5 MB 2.6 MB/s eta 0:00:07\n",
      "   --- ------------------------------------ 1.5/19.5 MB 2.6 MB/s eta 0:00:07\n",
      "   --- ------------------------------------ 1.6/19.5 MB 2.7 MB/s eta 0:00:07\n",
      "   --- ------------------------------------ 1.8/19.5 MB 2.7 MB/s eta 0:00:07\n",
      "   ---- ----------------------------------- 2.0/19.5 MB 2.8 MB/s eta 0:00:07\n",
      "   ---- ----------------------------------- 2.1/19.5 MB 2.8 MB/s eta 0:00:07\n",
      "   ---- ----------------------------------- 2.2/19.5 MB 2.8 MB/s eta 0:00:07\n",
      "   ---- ----------------------------------- 2.3/19.5 MB 2.8 MB/s eta 0:00:07\n",
      "   ---- ----------------------------------- 2.4/19.5 MB 2.7 MB/s eta 0:00:07\n",
      "   ----- ---------------------------------- 2.5/19.5 MB 2.7 MB/s eta 0:00:07\n",
      "   ----- ---------------------------------- 2.6/19.5 MB 2.7 MB/s eta 0:00:07\n",
      "   ----- ---------------------------------- 2.8/19.5 MB 2.7 MB/s eta 0:00:07\n",
      "   ------ --------------------------------- 2.9/19.5 MB 2.7 MB/s eta 0:00:07\n",
      "   ------ --------------------------------- 3.1/19.5 MB 2.7 MB/s eta 0:00:07\n",
      "   ------ --------------------------------- 3.2/19.5 MB 2.7 MB/s eta 0:00:06\n",
      "   ------ --------------------------------- 3.4/19.5 MB 2.7 MB/s eta 0:00:06\n",
      "   ------- -------------------------------- 3.5/19.5 MB 2.8 MB/s eta 0:00:06\n",
      "   ------- -------------------------------- 3.6/19.5 MB 2.8 MB/s eta 0:00:06\n",
      "   ------- -------------------------------- 3.8/19.5 MB 2.8 MB/s eta 0:00:06\n",
      "   -------- ------------------------------- 3.9/19.5 MB 2.8 MB/s eta 0:00:06\n",
      "   -------- ------------------------------- 4.1/19.5 MB 2.8 MB/s eta 0:00:06\n",
      "   -------- ------------------------------- 4.2/19.5 MB 2.8 MB/s eta 0:00:06\n",
      "   -------- ------------------------------- 4.3/19.5 MB 2.8 MB/s eta 0:00:06\n",
      "   --------- ------------------------------ 4.5/19.5 MB 2.8 MB/s eta 0:00:06\n",
      "   --------- ------------------------------ 4.6/19.5 MB 2.8 MB/s eta 0:00:06\n",
      "   --------- ------------------------------ 4.8/19.5 MB 2.8 MB/s eta 0:00:06\n",
      "   ---------- ----------------------------- 4.9/19.5 MB 2.8 MB/s eta 0:00:06\n",
      "   ---------- ----------------------------- 5.1/19.5 MB 2.8 MB/s eta 0:00:06\n",
      "   ---------- ----------------------------- 5.2/19.5 MB 2.9 MB/s eta 0:00:05\n",
      "   ---------- ----------------------------- 5.3/19.5 MB 2.8 MB/s eta 0:00:05\n",
      "   ----------- ---------------------------- 5.5/19.5 MB 2.9 MB/s eta 0:00:05\n",
      "   ----------- ---------------------------- 5.6/19.5 MB 2.9 MB/s eta 0:00:05\n",
      "   ----------- ---------------------------- 5.8/19.5 MB 2.9 MB/s eta 0:00:05\n",
      "   ------------ --------------------------- 5.9/19.5 MB 2.9 MB/s eta 0:00:05\n",
      "   ------------ --------------------------- 6.1/19.5 MB 2.9 MB/s eta 0:00:05\n",
      "   ------------ --------------------------- 6.2/19.5 MB 2.9 MB/s eta 0:00:05\n",
      "   ------------- -------------------------- 6.4/19.5 MB 2.9 MB/s eta 0:00:05\n",
      "   ------------- -------------------------- 6.5/19.5 MB 2.9 MB/s eta 0:00:05\n",
      "   ------------- -------------------------- 6.6/19.5 MB 2.9 MB/s eta 0:00:05\n",
      "   ------------- -------------------------- 6.8/19.5 MB 2.9 MB/s eta 0:00:05\n",
      "   -------------- ------------------------- 6.9/19.5 MB 2.9 MB/s eta 0:00:05\n",
      "   -------------- ------------------------- 7.1/19.5 MB 2.9 MB/s eta 0:00:05\n",
      "   -------------- ------------------------- 7.2/19.5 MB 2.9 MB/s eta 0:00:05\n",
      "   -------------- ------------------------- 7.3/19.5 MB 2.9 MB/s eta 0:00:05\n",
      "   --------------- ------------------------ 7.4/19.5 MB 2.8 MB/s eta 0:00:05\n",
      "   --------------- ------------------------ 7.5/19.5 MB 2.8 MB/s eta 0:00:05\n",
      "   --------------- ------------------------ 7.7/19.5 MB 2.8 MB/s eta 0:00:05\n",
      "   --------------- ------------------------ 7.8/19.5 MB 2.8 MB/s eta 0:00:05\n",
      "   ---------------- ----------------------- 7.9/19.5 MB 2.8 MB/s eta 0:00:05\n",
      "   ---------------- ----------------------- 8.1/19.5 MB 2.8 MB/s eta 0:00:05\n",
      "   ---------------- ----------------------- 8.2/19.5 MB 2.8 MB/s eta 0:00:04\n",
      "   ----------------- ---------------------- 8.4/19.5 MB 2.9 MB/s eta 0:00:04\n",
      "   ----------------- ---------------------- 8.5/19.5 MB 2.9 MB/s eta 0:00:04\n",
      "   ----------------- ---------------------- 8.7/19.5 MB 2.9 MB/s eta 0:00:04\n",
      "   ------------------ --------------------- 8.8/19.5 MB 2.9 MB/s eta 0:00:04\n",
      "   ------------------ --------------------- 9.0/19.5 MB 2.9 MB/s eta 0:00:04\n",
      "   ------------------ --------------------- 9.1/19.5 MB 2.9 MB/s eta 0:00:04\n",
      "   ------------------ --------------------- 9.2/19.5 MB 2.9 MB/s eta 0:00:04\n",
      "   ------------------- -------------------- 9.4/19.5 MB 2.9 MB/s eta 0:00:04\n",
      "   ------------------- -------------------- 9.5/19.5 MB 2.9 MB/s eta 0:00:04\n",
      "   ------------------- -------------------- 9.7/19.5 MB 2.9 MB/s eta 0:00:04\n",
      "   -------------------- ------------------- 9.8/19.5 MB 2.9 MB/s eta 0:00:04\n",
      "   -------------------- ------------------- 9.9/19.5 MB 2.9 MB/s eta 0:00:04\n",
      "   -------------------- ------------------- 10.1/19.5 MB 2.9 MB/s eta 0:00:04\n",
      "   -------------------- ------------------- 10.2/19.5 MB 2.9 MB/s eta 0:00:04\n",
      "   --------------------- ------------------ 10.4/19.5 MB 2.9 MB/s eta 0:00:04\n",
      "   --------------------- ------------------ 10.5/19.5 MB 2.9 MB/s eta 0:00:04\n",
      "   --------------------- ------------------ 10.5/19.5 MB 2.9 MB/s eta 0:00:04\n",
      "   --------------------- ------------------ 10.7/19.5 MB 2.9 MB/s eta 0:00:04\n",
      "   ---------------------- ----------------- 10.8/19.5 MB 2.9 MB/s eta 0:00:03\n",
      "   ---------------------- ----------------- 11.0/19.5 MB 2.9 MB/s eta 0:00:03\n",
      "   ---------------------- ----------------- 11.1/19.5 MB 2.9 MB/s eta 0:00:03\n",
      "   ----------------------- ---------------- 11.3/19.5 MB 2.9 MB/s eta 0:00:03\n",
      "   ----------------------- ---------------- 11.4/19.5 MB 2.9 MB/s eta 0:00:03\n",
      "   ----------------------- ---------------- 11.6/19.5 MB 2.9 MB/s eta 0:00:03\n",
      "   ------------------------ --------------- 11.7/19.5 MB 2.9 MB/s eta 0:00:03\n",
      "   ------------------------ --------------- 11.9/19.5 MB 2.9 MB/s eta 0:00:03\n",
      "   ------------------------ --------------- 12.0/19.5 MB 2.9 MB/s eta 0:00:03\n",
      "   ------------------------ --------------- 12.2/19.5 MB 2.9 MB/s eta 0:00:03\n",
      "   ------------------------- -------------- 12.3/19.5 MB 2.9 MB/s eta 0:00:03\n",
      "   ------------------------- -------------- 12.5/19.5 MB 2.9 MB/s eta 0:00:03\n",
      "   -------------------------- ------------- 12.7/19.5 MB 3.0 MB/s eta 0:00:03\n",
      "   -------------------------- ------------- 13.0/19.5 MB 3.0 MB/s eta 0:00:03\n",
      "   -------------------------- ------------- 13.1/19.5 MB 3.0 MB/s eta 0:00:03\n",
      "   --------------------------- ------------ 13.3/19.5 MB 3.0 MB/s eta 0:00:03\n",
      "   --------------------------- ------------ 13.4/19.5 MB 3.0 MB/s eta 0:00:03\n",
      "   --------------------------- ------------ 13.5/19.5 MB 3.0 MB/s eta 0:00:03\n",
      "   ---------------------------- ----------- 13.7/19.5 MB 3.0 MB/s eta 0:00:02\n",
      "   ---------------------------- ----------- 13.8/19.5 MB 3.0 MB/s eta 0:00:02\n",
      "   ---------------------------- ----------- 14.0/19.5 MB 3.0 MB/s eta 0:00:02\n",
      "   ---------------------------- ----------- 14.1/19.5 MB 3.0 MB/s eta 0:00:02\n",
      "   ----------------------------- ---------- 14.3/19.5 MB 3.0 MB/s eta 0:00:02\n",
      "   ----------------------------- ---------- 14.5/19.5 MB 3.0 MB/s eta 0:00:02\n",
      "   ----------------------------- ---------- 14.6/19.5 MB 3.0 MB/s eta 0:00:02\n",
      "   ------------------------------ --------- 14.8/19.5 MB 3.0 MB/s eta 0:00:02\n",
      "   ------------------------------ --------- 14.9/19.5 MB 3.0 MB/s eta 0:00:02\n",
      "   ------------------------------ --------- 15.1/19.5 MB 3.0 MB/s eta 0:00:02\n",
      "   ------------------------------- -------- 15.2/19.5 MB 3.0 MB/s eta 0:00:02\n",
      "   ------------------------------- -------- 15.4/19.5 MB 3.0 MB/s eta 0:00:02\n",
      "   ------------------------------- -------- 15.5/19.5 MB 3.0 MB/s eta 0:00:02\n",
      "   ------------------------------- -------- 15.6/19.5 MB 3.0 MB/s eta 0:00:02\n",
      "   -------------------------------- ------- 15.7/19.5 MB 3.0 MB/s eta 0:00:02\n",
      "   -------------------------------- ------- 15.9/19.5 MB 3.0 MB/s eta 0:00:02\n",
      "   -------------------------------- ------- 16.0/19.5 MB 3.0 MB/s eta 0:00:02\n",
      "   --------------------------------- ------ 16.2/19.5 MB 3.0 MB/s eta 0:00:02\n",
      "   --------------------------------- ------ 16.3/19.5 MB 3.0 MB/s eta 0:00:02\n",
      "   --------------------------------- ------ 16.5/19.5 MB 3.0 MB/s eta 0:00:02\n",
      "   ---------------------------------- ----- 16.6/19.5 MB 3.0 MB/s eta 0:00:01\n",
      "   ---------------------------------- ----- 16.8/19.5 MB 3.0 MB/s eta 0:00:01\n",
      "   ---------------------------------- ----- 16.9/19.5 MB 3.0 MB/s eta 0:00:01\n",
      "   ---------------------------------- ----- 17.1/19.5 MB 3.0 MB/s eta 0:00:01\n",
      "   ----------------------------------- ---- 17.2/19.5 MB 3.0 MB/s eta 0:00:01\n",
      "   ----------------------------------- ---- 17.4/19.5 MB 3.0 MB/s eta 0:00:01\n",
      "   ----------------------------------- ---- 17.5/19.5 MB 3.0 MB/s eta 0:00:01\n",
      "   ------------------------------------ --- 17.7/19.5 MB 3.0 MB/s eta 0:00:01\n",
      "   ------------------------------------ --- 17.8/19.5 MB 3.0 MB/s eta 0:00:01\n",
      "   ------------------------------------ --- 17.9/19.5 MB 3.0 MB/s eta 0:00:01\n",
      "   ------------------------------------ --- 18.0/19.5 MB 3.0 MB/s eta 0:00:01\n",
      "   ------------------------------------ --- 18.0/19.5 MB 3.0 MB/s eta 0:00:01\n",
      "   ------------------------------------ --- 18.0/19.5 MB 3.0 MB/s eta 0:00:01\n",
      "   ------------------------------------ --- 18.0/19.5 MB 2.9 MB/s eta 0:00:01\n",
      "   ------------------------------------- -- 18.1/19.5 MB 2.9 MB/s eta 0:00:01\n",
      "   ------------------------------------- -- 18.3/19.5 MB 2.9 MB/s eta 0:00:01\n",
      "   ------------------------------------- -- 18.4/19.5 MB 2.9 MB/s eta 0:00:01\n",
      "   ------------------------------------- -- 18.5/19.5 MB 2.9 MB/s eta 0:00:01\n",
      "   -------------------------------------- - 18.7/19.5 MB 2.9 MB/s eta 0:00:01\n",
      "   -------------------------------------- - 18.8/19.5 MB 2.9 MB/s eta 0:00:01\n",
      "   -------------------------------------- - 19.0/19.5 MB 2.9 MB/s eta 0:00:01\n",
      "   ---------------------------------------  19.1/19.5 MB 2.9 MB/s eta 0:00:01\n",
      "   ---------------------------------------  19.3/19.5 MB 2.9 MB/s eta 0:00:01\n",
      "   ---------------------------------------  19.4/19.5 MB 2.9 MB/s eta 0:00:01\n",
      "   ---------------------------------------  19.5/19.5 MB 2.9 MB/s eta 0:00:01\n",
      "   ---------------------------------------  19.5/19.5 MB 2.9 MB/s eta 0:00:01\n",
      "   ---------------------------------------- 19.5/19.5 MB 2.8 MB/s eta 0:00:00\n",
      "Downloading alembic-1.13.1-py3-none-any.whl (233 kB)\n",
      "   ---------------------------------------- 0.0/233.4 kB ? eta -:--:--\n",
      "   - -------------------------------------- 10.2/233.4 kB ? eta -:--:--\n",
      "   ----------------------------- ---------- 174.1/233.4 kB 2.1 MB/s eta 0:00:01\n",
      "   ---------------------------------------- 233.4/233.4 kB 2.0 MB/s eta 0:00:00\n",
      "Downloading docker-7.0.0-py3-none-any.whl (147 kB)\n",
      "   ---------------------------------------- 0.0/147.6 kB ? eta -:--:--\n",
      "   ---------------------------------------- 147.6/147.6 kB 2.9 MB/s eta 0:00:00\n",
      "Downloading GitPython-3.1.41-py3-none-any.whl (196 kB)\n",
      "   ---------------------------------------- 0.0/196.4 kB ? eta -:--:--\n",
      "   ----------------------------- ---------- 143.4/196.4 kB 2.9 MB/s eta 0:00:01\n",
      "   ---------------------------------------- 196.4/196.4 kB 3.0 MB/s eta 0:00:00\n",
      "Downloading protobuf-4.25.2-cp310-abi3-win_amd64.whl (413 kB)\n",
      "   ---------------------------------------- 0.0/413.4 kB ? eta -:--:--\n",
      "   ----------- ---------------------------- 122.9/413.4 kB 3.5 MB/s eta 0:00:01\n",
      "   ----------------------------- ---------- 307.2/413.4 kB 3.2 MB/s eta 0:00:01\n",
      "   ---------------------------------------- 413.4/413.4 kB 2.9 MB/s eta 0:00:00\n",
      "Downloading gitdb-4.0.11-py3-none-any.whl (62 kB)\n",
      "   ---------------------------------------- 0.0/62.7 kB ? eta -:--:--\n",
      "   ---------------------------------------- 62.7/62.7 kB 3.3 MB/s eta 0:00:00\n",
      "Downloading Mako-1.3.2-py3-none-any.whl (78 kB)\n",
      "   ---------------------------------------- 0.0/78.7 kB ? eta -:--:--\n",
      "   ---------------------------------------- 78.7/78.7 kB 4.3 MB/s eta 0:00:00\n",
      "Downloading smmap-5.0.1-py3-none-any.whl (24 kB)\n",
      "Installing collected packages: waitress, sqlparse, smmap, querystring-parser, protobuf, Mako, gitdb, docker, alembic, gitpython, mlflow\n",
      "Successfully installed Mako-1.3.2 alembic-1.13.1 docker-7.0.0 gitdb-4.0.11 gitpython-3.1.41 mlflow-2.10.2 protobuf-4.25.2 querystring-parser-1.2.4 smmap-5.0.1 sqlparse-0.4.4 waitress-2.1.2\n",
      "Collecting pyngrok\n",
      "  Obtaining dependency information for pyngrok from https://files.pythonhosted.org/packages/74/77/10d09825c0f05b8d73d7272114792893e5fc3135cca37f364a15a7eb0af3/pyngrok-7.1.1-py3-none-any.whl.metadata\n",
      "  Downloading pyngrok-7.1.1-py3-none-any.whl.metadata (7.1 kB)\n",
      "Requirement already satisfied: PyYAML in c:\\users\\admin\\anaconda3\\lib\\site-packages (from pyngrok) (6.0)\n",
      "Downloading pyngrok-7.1.1-py3-none-any.whl (21 kB)\n",
      "Installing collected packages: pyngrok\n",
      "Successfully installed pyngrok-7.1.1\n"
     ]
    }
   ],
   "source": [
    "!pip install mlflow\n",
    "!pip install pyngrok"
   ]
  },
  {
   "cell_type": "code",
   "execution_count": 2,
   "id": "3cf1adbc-2d5b-49cb-b173-be5ec59c190d",
   "metadata": {
    "tags": []
   },
   "outputs": [],
   "source": [
    "!pip install -q subprocess-tee"
   ]
  },
  {
   "cell_type": "code",
   "execution_count": 3,
   "id": "3942b28c-0a3c-4267-b9e5-f9bbf5930d47",
   "metadata": {
    "tags": []
   },
   "outputs": [],
   "source": [
    "import mlflow\n",
    "import subprocess\n",
    "from pyngrok import ngrok, conf\n",
    "import getpass"
   ]
  },
  {
   "cell_type": "code",
   "execution_count": 4,
   "id": "f02e6d33-69ab-4f60-b990-76b514503aee",
   "metadata": {
    "tags": []
   },
   "outputs": [
    {
     "data": {
      "text/plain": [
       "<Popen: returncode: None args: ['mlflow', 'ui', '--backend-store-uri', 'sqli...>"
      ]
     },
     "execution_count": 4,
     "metadata": {},
     "output_type": "execute_result"
    }
   ],
   "source": [
    "MLFLOW_TRACKING_URI = \"sqlite:///mlflow.db\"\n",
    "subprocess.Popen([\"mlflow\", \"ui\", \"--backend-store-uri\", MLFLOW_TRACKING_URI])"
   ]
  },
  {
   "cell_type": "code",
   "execution_count": 5,
   "id": "7b402c45-44da-421c-94e3-d8d4cd6a143a",
   "metadata": {
    "collapsed": true,
    "jupyter": {
     "outputs_hidden": true
    },
    "tags": []
   },
   "outputs": [
    {
     "name": "stderr",
     "output_type": "stream",
     "text": [
      "2024/02/10 07:24:53 INFO mlflow.store.db.utils: Creating initial MLflow database tables...\n",
      "2024/02/10 07:24:53 INFO mlflow.store.db.utils: Updating database tables\n",
      "INFO  [alembic.runtime.migration] Context impl SQLiteImpl.\n",
      "INFO  [alembic.runtime.migration] Will assume non-transactional DDL.\n",
      "INFO  [alembic.runtime.migration] Running upgrade  -> 451aebb31d03, add metric step\n",
      "INFO  [alembic.runtime.migration] Running upgrade 451aebb31d03 -> 90e64c465722, migrate user column to tags\n",
      "INFO  [alembic.runtime.migration] Running upgrade 90e64c465722 -> 181f10493468, allow nulls for metric values\n",
      "INFO  [alembic.runtime.migration] Running upgrade 181f10493468 -> df50e92ffc5e, Add Experiment Tags Table\n",
      "INFO  [alembic.runtime.migration] Running upgrade df50e92ffc5e -> 7ac759974ad8, Update run tags with larger limit\n",
      "INFO  [alembic.runtime.migration] Running upgrade 7ac759974ad8 -> 89d4b8295536, create latest metrics table\n",
      "INFO  [89d4b8295536_create_latest_metrics_table_py] Migration complete!\n",
      "INFO  [alembic.runtime.migration] Running upgrade 89d4b8295536 -> 2b4d017a5e9b, add model registry tables to db\n",
      "INFO  [2b4d017a5e9b_add_model_registry_tables_to_db_py] Adding registered_models and model_versions tables to database.\n",
      "INFO  [2b4d017a5e9b_add_model_registry_tables_to_db_py] Migration complete!\n",
      "INFO  [alembic.runtime.migration] Running upgrade 2b4d017a5e9b -> cfd24bdc0731, Update run status constraint with killed\n",
      "INFO  [alembic.runtime.migration] Running upgrade cfd24bdc0731 -> 0a8213491aaa, drop_duplicate_killed_constraint\n",
      "INFO  [alembic.runtime.migration] Running upgrade 0a8213491aaa -> 728d730b5ebd, add registered model tags table\n",
      "INFO  [alembic.runtime.migration] Running upgrade 728d730b5ebd -> 27a6a02d2cf1, add model version tags table\n",
      "INFO  [alembic.runtime.migration] Running upgrade 27a6a02d2cf1 -> 84291f40a231, add run_link to model_version\n",
      "INFO  [alembic.runtime.migration] Running upgrade 84291f40a231 -> a8c4a736bde6, allow nulls for run_id\n",
      "INFO  [alembic.runtime.migration] Running upgrade a8c4a736bde6 -> 39d1c3be5f05, add_is_nan_constraint_for_metrics_tables_if_necessary\n",
      "INFO  [alembic.runtime.migration] Running upgrade 39d1c3be5f05 -> c48cb773bb87, reset_default_value_for_is_nan_in_metrics_table_for_mysql\n",
      "INFO  [alembic.runtime.migration] Running upgrade c48cb773bb87 -> bd07f7e963c5, create index on run_uuid\n",
      "INFO  [alembic.runtime.migration] Running upgrade bd07f7e963c5 -> 0c779009ac13, add deleted_time field to runs table\n",
      "INFO  [alembic.runtime.migration] Running upgrade 0c779009ac13 -> cc1f77228345, change param value length to 500\n",
      "INFO  [alembic.runtime.migration] Running upgrade cc1f77228345 -> 97727af70f4d, Add creation_time and last_update_time to experiments table\n",
      "INFO  [alembic.runtime.migration] Running upgrade 97727af70f4d -> 3500859a5d39, Add Model Aliases table\n",
      "INFO  [alembic.runtime.migration] Running upgrade 3500859a5d39 -> 7f2a7d5fae7d, add datasets inputs input_tags tables\n",
      "INFO  [alembic.runtime.migration] Running upgrade 7f2a7d5fae7d -> 2d6e25af4d3e, increase max param val length from 500 to 8000\n",
      "INFO  [alembic.runtime.migration] Running upgrade 2d6e25af4d3e -> acf3f17fdcc7, add storage location field to model versions\n",
      "INFO  [alembic.runtime.migration] Context impl SQLiteImpl.\n",
      "INFO  [alembic.runtime.migration] Will assume non-transactional DDL.\n",
      "2024/02/10 07:24:55 INFO mlflow.tracking.fluent: Experiment with name 'Sample-exp-setup' does not exist. Creating a new experiment.\n"
     ]
    },
    {
     "data": {
      "text/plain": [
       "<Experiment: artifact_location='file:///C:/Users/Admin/mlruns/1', creation_time=1707578695005, experiment_id='1', last_update_time=1707578695005, lifecycle_stage='active', name='Sample-exp-setup', tags={}>"
      ]
     },
     "execution_count": 5,
     "metadata": {},
     "output_type": "execute_result"
    }
   ],
   "source": [
    "mlflow.set_tracking_uri(MLFLOW_TRACKING_URI)\n",
    "# mlflow will create an experiment if it doesn't exist\n",
    "mlflow.set_experiment(\"Sample-exp-setup\")"
   ]
  },
  {
   "cell_type": "code",
   "execution_count": 6,
   "id": "a97bb8f7-c6bd-4cb6-9d10-559eee6a91aa",
   "metadata": {
    "tags": []
   },
   "outputs": [
    {
     "name": "stdout",
     "output_type": "stream",
     "text": [
      "Enter your authtoken, which can be copied from https://dashboard.ngrok.com/auth\n"
     ]
    },
    {
     "name": "stdin",
     "output_type": "stream",
     "text": [
      " ········\n"
     ]
    },
    {
     "name": "stdout",
     "output_type": "stream",
     "text": [
      "                                                                                                    \r"
     ]
    },
    {
     "name": "stderr",
     "output_type": "stream",
     "text": [
      "ERROR [pyngrok.process.ngrok] t=2024-02-10T07:25:31-0800 lvl=eror msg=\"failed to reconnect session\" obj=tunnels.session obj=csess id=b190a78f842c err=\"authentication failed: Your account is limited to 1 simultaneous ngrok agent session.\\nYou can run multiple tunnels on a single agent session using a configuration file.\\nTo learn more, see https://ngrok.com/docs/secure-tunnels/ngrok-agent/reference/config/\\n\\nActive ngrok agent sessions in region 'us':\\n  - ts_2cBBia0livZhkbgWYUmcPH0yY27 (35.245.101.207)\\r\\n\\r\\nERR_NGROK_108\\r\\n\"\n",
      "ERROR [pyngrok.process.ngrok] t=2024-02-10T07:25:31-0800 lvl=eror msg=\"session closing\" obj=tunnels.session err=\"authentication failed: Your account is limited to 1 simultaneous ngrok agent session.\\nYou can run multiple tunnels on a single agent session using a configuration file.\\nTo learn more, see https://ngrok.com/docs/secure-tunnels/ngrok-agent/reference/config/\\n\\nActive ngrok agent sessions in region 'us':\\n  - ts_2cBBia0livZhkbgWYUmcPH0yY27 (35.245.101.207)\\r\\n\\r\\nERR_NGROK_108\\r\\n\"\n",
      "ERROR [pyngrok.process.ngrok] t=2024-02-10T07:25:31-0800 lvl=eror msg=\"terminating with error\" obj=app err=\"authentication failed: Your account is limited to 1 simultaneous ngrok agent session.\\nYou can run multiple tunnels on a single agent session using a configuration file.\\nTo learn more, see https://ngrok.com/docs/secure-tunnels/ngrok-agent/reference/config/\\n\\nActive ngrok agent sessions in region 'us':\\n  - ts_2cBBia0livZhkbgWYUmcPH0yY27 (35.245.101.207)\\r\\n\\r\\nERR_NGROK_108\\r\\n\"\n",
      "CRITI [pyngrok.process.ngrok] t=2024-02-10T07:25:31-0800 lvl=crit msg=\"command failed\" err=\"authentication failed: Your account is limited to 1 simultaneous ngrok agent session.\\nYou can run multiple tunnels on a single agent session using a configuration file.\\nTo learn more, see https://ngrok.com/docs/secure-tunnels/ngrok-agent/reference/config/\\n\\nActive ngrok agent sessions in region 'us':\\n  - ts_2cBBia0livZhkbgWYUmcPH0yY27 (35.245.101.207)\\r\\n\\r\\nERR_NGROK_108\\r\\n\"\n",
      "WARNI [pyngrok.process.ngrok] t=2024-02-10T07:25:31-0800 lvl=warn msg=\"failed to check for update\" obj=updater err=\"Post \\\"https://update.equinox.io/check\\\": context canceled\"\n"
     ]
    },
    {
     "ename": "PyngrokNgrokError",
     "evalue": "The ngrok process errored on start: authentication failed: Your account is limited to 1 simultaneous ngrok agent session.\\nYou can run multiple tunnels on a single agent session using a configuration file.\\nTo learn more, see https://ngrok.com/docs/secure-tunnels/ngrok-agent/reference/config/\\n\\nActive ngrok agent sessions in region 'us':\\n  - ts_2cBBia0livZhkbgWYUmcPH0yY27 (35.245.101.207)\\r\\n\\r\\nERR_NGROK_108\\r\\n.",
     "output_type": "error",
     "traceback": [
      "\u001b[1;31m---------------------------------------------------------------------------\u001b[0m",
      "\u001b[1;31mPyngrokNgrokError\u001b[0m                         Traceback (most recent call last)",
      "Cell \u001b[1;32mIn[6], line 4\u001b[0m\n\u001b[0;32m      2\u001b[0m conf\u001b[38;5;241m.\u001b[39mget_default()\u001b[38;5;241m.\u001b[39mauth_token \u001b[38;5;241m=\u001b[39m getpass\u001b[38;5;241m.\u001b[39mgetpass()\n\u001b[0;32m      3\u001b[0m port\u001b[38;5;241m=\u001b[39m\u001b[38;5;241m5000\u001b[39m\n\u001b[1;32m----> 4\u001b[0m public_url \u001b[38;5;241m=\u001b[39m ngrok\u001b[38;5;241m.\u001b[39mconnect(port)\u001b[38;5;241m.\u001b[39mpublic_url\n\u001b[0;32m      5\u001b[0m \u001b[38;5;28mprint\u001b[39m(\u001b[38;5;124mf\u001b[39m\u001b[38;5;124m'\u001b[39m\u001b[38;5;124m * ngrok tunnel \u001b[39m\u001b[38;5;130;01m\\\"\u001b[39;00m\u001b[38;5;132;01m{\u001b[39;00mpublic_url\u001b[38;5;132;01m}\u001b[39;00m\u001b[38;5;130;01m\\\"\u001b[39;00m\u001b[38;5;124m -> \u001b[39m\u001b[38;5;130;01m\\\"\u001b[39;00m\u001b[38;5;124mhttp://127.0.0.1:\u001b[39m\u001b[38;5;132;01m{\u001b[39;00mport\u001b[38;5;132;01m}\u001b[39;00m\u001b[38;5;130;01m\\\"\u001b[39;00m\u001b[38;5;124m'\u001b[39m)\n",
      "File \u001b[1;32m~\\anaconda3\\Lib\\site-packages\\pyngrok\\ngrok.py:311\u001b[0m, in \u001b[0;36mconnect\u001b[1;34m(addr, proto, name, pyngrok_config, **options)\u001b[0m\n\u001b[0;32m    307\u001b[0m             options[\u001b[38;5;124m\"\u001b[39m\u001b[38;5;124mbasic_auth\u001b[39m\u001b[38;5;124m\"\u001b[39m] \u001b[38;5;241m=\u001b[39m [auth]\n\u001b[0;32m    309\u001b[0m         options\u001b[38;5;241m.\u001b[39mpop(\u001b[38;5;124m\"\u001b[39m\u001b[38;5;124mauth\u001b[39m\u001b[38;5;124m\"\u001b[39m)\n\u001b[1;32m--> 311\u001b[0m api_url \u001b[38;5;241m=\u001b[39m get_ngrok_process(pyngrok_config)\u001b[38;5;241m.\u001b[39mapi_url\n\u001b[0;32m    313\u001b[0m logger\u001b[38;5;241m.\u001b[39mdebug(\u001b[38;5;124m\"\u001b[39m\u001b[38;5;124mCreating tunnel with options: \u001b[39m\u001b[38;5;132;01m{}\u001b[39;00m\u001b[38;5;124m\"\u001b[39m\u001b[38;5;241m.\u001b[39mformat(options))\n\u001b[0;32m    315\u001b[0m tunnel \u001b[38;5;241m=\u001b[39m NgrokTunnel(api_request(\u001b[38;5;124m\"\u001b[39m\u001b[38;5;132;01m{}\u001b[39;00m\u001b[38;5;124m/api/tunnels\u001b[39m\u001b[38;5;124m\"\u001b[39m\u001b[38;5;241m.\u001b[39mformat(api_url), method\u001b[38;5;241m=\u001b[39m\u001b[38;5;124m\"\u001b[39m\u001b[38;5;124mPOST\u001b[39m\u001b[38;5;124m\"\u001b[39m, data\u001b[38;5;241m=\u001b[39moptions,\n\u001b[0;32m    316\u001b[0m                                  timeout\u001b[38;5;241m=\u001b[39mpyngrok_config\u001b[38;5;241m.\u001b[39mrequest_timeout),\n\u001b[0;32m    317\u001b[0m                      pyngrok_config, api_url)\n",
      "File \u001b[1;32m~\\anaconda3\\Lib\\site-packages\\pyngrok\\ngrok.py:155\u001b[0m, in \u001b[0;36mget_ngrok_process\u001b[1;34m(pyngrok_config)\u001b[0m\n\u001b[0;32m    151\u001b[0m     pyngrok_config \u001b[38;5;241m=\u001b[39m conf\u001b[38;5;241m.\u001b[39mget_default()\n\u001b[0;32m    153\u001b[0m install_ngrok(pyngrok_config)\n\u001b[1;32m--> 155\u001b[0m \u001b[38;5;28;01mreturn\u001b[39;00m process\u001b[38;5;241m.\u001b[39mget_process(pyngrok_config)\n",
      "File \u001b[1;32m~\\anaconda3\\Lib\\site-packages\\pyngrok\\process.py:234\u001b[0m, in \u001b[0;36mget_process\u001b[1;34m(pyngrok_config)\u001b[0m\n\u001b[0;32m    231\u001b[0m \u001b[38;5;28;01mif\u001b[39;00m is_process_running(pyngrok_config\u001b[38;5;241m.\u001b[39mngrok_path):\n\u001b[0;32m    232\u001b[0m     \u001b[38;5;28;01mreturn\u001b[39;00m _current_processes[pyngrok_config\u001b[38;5;241m.\u001b[39mngrok_path]\n\u001b[1;32m--> 234\u001b[0m \u001b[38;5;28;01mreturn\u001b[39;00m _start_process(pyngrok_config)\n",
      "File \u001b[1;32m~\\anaconda3\\Lib\\site-packages\\pyngrok\\process.py:395\u001b[0m, in \u001b[0;36m_start_process\u001b[1;34m(pyngrok_config)\u001b[0m\n\u001b[0;32m    392\u001b[0m kill_process(pyngrok_config\u001b[38;5;241m.\u001b[39mngrok_path)\n\u001b[0;32m    394\u001b[0m \u001b[38;5;28;01mif\u001b[39;00m ngrok_process\u001b[38;5;241m.\u001b[39mstartup_error \u001b[38;5;129;01mis\u001b[39;00m \u001b[38;5;129;01mnot\u001b[39;00m \u001b[38;5;28;01mNone\u001b[39;00m:\n\u001b[1;32m--> 395\u001b[0m     \u001b[38;5;28;01mraise\u001b[39;00m PyngrokNgrokError(\u001b[38;5;124m\"\u001b[39m\u001b[38;5;124mThe ngrok process errored on start: \u001b[39m\u001b[38;5;132;01m{}\u001b[39;00m\u001b[38;5;124m.\u001b[39m\u001b[38;5;124m\"\u001b[39m\u001b[38;5;241m.\u001b[39mformat(ngrok_process\u001b[38;5;241m.\u001b[39mstartup_error),\n\u001b[0;32m    396\u001b[0m                             ngrok_process\u001b[38;5;241m.\u001b[39mlogs,\n\u001b[0;32m    397\u001b[0m                             ngrok_process\u001b[38;5;241m.\u001b[39mstartup_error)\n\u001b[0;32m    398\u001b[0m \u001b[38;5;28;01melse\u001b[39;00m:\n\u001b[0;32m    399\u001b[0m     \u001b[38;5;28;01mraise\u001b[39;00m PyngrokNgrokError(\u001b[38;5;124m\"\u001b[39m\u001b[38;5;124mThe ngrok process was unable to start.\u001b[39m\u001b[38;5;124m\"\u001b[39m, ngrok_process\u001b[38;5;241m.\u001b[39mlogs)\n",
      "\u001b[1;31mPyngrokNgrokError\u001b[0m: The ngrok process errored on start: authentication failed: Your account is limited to 1 simultaneous ngrok agent session.\\nYou can run multiple tunnels on a single agent session using a configuration file.\\nTo learn more, see https://ngrok.com/docs/secure-tunnels/ngrok-agent/reference/config/\\n\\nActive ngrok agent sessions in region 'us':\\n  - ts_2cBBia0livZhkbgWYUmcPH0yY27 (35.245.101.207)\\r\\n\\r\\nERR_NGROK_108\\r\\n."
     ]
    }
   ],
   "source": [
    "print(\"Enter your authtoken, which can be copied from https://dashboard.ngrok.com/auth\")\n",
    "conf.get_default().auth_token = getpass.getpass()\n",
    "port=5000\n",
    "public_url = ngrok.connect(port).public_url\n",
    "print(f' * ngrok tunnel \\\"{public_url}\\\" -> \\\"http://127.0.0.1:{port}\\\"')"
   ]
  },
  {
   "cell_type": "code",
   "execution_count": null,
   "id": "d8cc928b-95c4-4dc1-9a14-fdc01ed247bc",
   "metadata": {},
   "outputs": [],
   "source": []
  }
 ],
 "metadata": {
  "kernelspec": {
   "display_name": "Python 3 (ipykernel)",
   "language": "python",
   "name": "python3"
  },
  "language_info": {
   "codemirror_mode": {
    "name": "ipython",
    "version": 3
   },
   "file_extension": ".py",
   "mimetype": "text/x-python",
   "name": "python",
   "nbconvert_exporter": "python",
   "pygments_lexer": "ipython3",
   "version": "3.11.5"
  }
 },
 "nbformat": 4,
 "nbformat_minor": 5
}
