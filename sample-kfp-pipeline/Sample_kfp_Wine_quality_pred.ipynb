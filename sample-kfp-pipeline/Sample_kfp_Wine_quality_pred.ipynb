{
 "cells": [
  {
   "cell_type": "markdown",
   "id": "c1a56268-a7e9-43fe-a640-faaa83e0c23b",
   "metadata": {},
   "source": [
    "# <span style=\"font-family:cursive;text-align:center\"><font color=red> End-to-End Wine Quality Prediction using Kfp pipelines(Kubeflow SDK) </span>\n",
    "\n",
    "**This Wine-Quality Prediction kfp pipeline is a Sample pipeline**\n",
    "\n",
    "**To get an exposure on how components are getting created and pipeline get run using kfp sdk.**"
   ]
  },
  {
   "cell_type": "code",
   "execution_count": null,
   "id": "1da9f3d5-3385-4f01-ab51-1f2c872b7249",
   "metadata": {},
   "outputs": [],
   "source": [
    "from kfp import components\n",
    "from kfp import dsl\n",
    "from typing import List\n",
    "import kfp\n",
    "from typing import NamedTuple\n",
    "from kfp.components import func_to_container_op, create_component_from_func"
   ]
  },
  {
   "cell_type": "markdown",
   "id": "550ce7dd-c2f4-4bf7-87f4-58de450b330b",
   "metadata": {},
   "source": [
    "<div style=\"border-radius:10px; border:#DEB887 solid; padding: 15px; background-color: #FFFAF0; font-size:100%; text-align:left\">\n",
    "<h3 align=\"left\"><font color='#DEB887'> Read and save data </font></h3>\n",
    "\n",
    "This method loads the data from the load_wine from sklearn.datasets and saves it to /kfs_private as train.csv and test.csv and @create_component_from_func decorator is used to conver this function into a component\n",
    "\n",
    "Note: If you have a minio standalone or minio file-storage attached to your cluster. You can directly specify the storage path as /kfs_private or /kfs_public and further bucket-names"
   ]
  },
  {
   "cell_type": "code",
   "execution_count": null,
   "id": "3bc438df-a25c-4f50-ab37-ff561a96b9ca",
   "metadata": {},
   "outputs": [],
   "source": [
    "@create_component_from_func\n",
    "def data_loading_splitting():\n",
    "    import os\n",
    "    os.system(\"pip install pandas scikit-learn\")\n",
    "    import pandas as pd\n",
    "    from sklearn.datasets import load_wine\n",
    "    from sklearn.model_selection import train_test_split\n",
    "    x, y = load_wine(return_X_y=True)\n",
    "    x = pd.DataFrame(x)\n",
    "    x_train, x_test, y_train, y_test = train_test_split(x, y, test_size=0.2)\n",
    "    x_train['y'] = y_train\n",
    "    x_test['y'] = y_test\n",
    "\n",
    "    x_train.to_csv('/kfs_private/train.csv', index=False)\n",
    "    x_test.to_csv('kfs_private/test.csv', index=False)"
   ]
  },
  {
   "cell_type": "markdown",
   "id": "91ebb573-e377-4092-b91a-24193cbab274",
   "metadata": {},
   "source": [
    "<div style=\"border-radius:10px; border:#DEB887 solid; padding: 15px; background-color: #FFFAF0; font-size:100%; text-align:left\">\n",
    "<h3 align=\"left\"><font color='#DEB887'> Modelling using Decision tree </font></h3>\n",
    "\n",
    "This method reads train.csv and test.csv from /kfs_private/data_dir and creating a DecisionTreeClassifier object and printing the accuracy score"
   ]
  },
  {
   "cell_type": "code",
   "execution_count": null,
   "id": "e07c048d-3549-4001-988d-41b3eed9878e",
   "metadata": {},
   "outputs": [],
   "source": [
    "@create_component_from_func # This is another way to create component from function, to use create_component_from_func as a decorator\n",
    "def decision_tree():\n",
    "    import os\n",
    "    os.system(\"pip install pandas scikit-learn\")\n",
    "    import pandas as pd\n",
    "    from sklearn.tree import DecisionTreeClassifier\n",
    "    train = pd.read_csv('/kfs_private/train.csv')\n",
    "    test = pd.read_csv('/kfs_private/test.csv')\n",
    "    x_train, y_train = train.drop(columns=['y'], axis=1), train['y']\n",
    "    x_test, y_test = test.drop(columns=['y'], axis=1), test['y']\n",
    "    clf = DecisionTreeClassifier()\n",
    "    clf.fit(x_train, y_train)\n",
    "    print(clf.score(x_test, y_test))"
   ]
  },
  {
   "cell_type": "markdown",
   "id": "6b42d4e9-4fcd-49af-a7d4-6a37e8765220",
   "metadata": {},
   "source": [
    "<div style=\"border-radius:10px; border:#DEB887 solid; padding: 15px; background-color: #FFFAF0; font-size:100%; text-align:left\">\n",
    "<h3 align=\"left\"><font color='#DEB887'> Modelling using Logistic regression </font></h3>\n",
    "\n",
    "This method reads train.csv and test.csv from /kfs_private/data_dir and creating a Logistic Regression object and printing the accuracy score"
   ]
  },
  {
   "cell_type": "code",
   "execution_count": null,
   "id": "86bdea9e-a287-43b3-8244-ff7a1f0046c4",
   "metadata": {},
   "outputs": [],
   "source": [
    "@create_component_from_func\n",
    "def logistic_regression():\n",
    "    import os\n",
    "    os.system(\"pip install pandas scikit-learn\")\n",
    "    import pandas as pd\n",
    "    from sklearn.linear_model import LogisticRegression\n",
    "    train = pd.read_csv('/kfs_private/train.csv')\n",
    "    test = pd.read_csv('/kfs_private/test.csv')\n",
    "    x_train, y_train = train.drop(columns=['y'], axis=1), train['y']\n",
    "    x_test, y_test = test.drop(columns=['y'], axis=1), test['y']\n",
    "    clf = LogisticRegression()\n",
    "    clf.fit(x_train, y_train)\n",
    "    print(clf.score(x_test, y_test))"
   ]
  },
  {
   "cell_type": "markdown",
   "id": "630814f4-aac0-4b86-88d6-46dcaf922023",
   "metadata": {},
   "source": [
    "<div style=\"border-radius:10px; border:#DEB887 solid; padding: 15px; background-color: #FFFAF0; font-size:100%; text-align:left\">\n",
    "<h3 align=\"left\"><font color='#DEB887'> Modelling using Random forest </font></h3>\n",
    "\n",
    "This method reads train.csv and test.csv from /kfs_private/data_dir and creating a RandomForestClassifier object and printing the accuracy score"
   ]
  },
  {
   "cell_type": "code",
   "execution_count": null,
   "id": "1eeb585d-351b-4975-8519-e1e74f504a26",
   "metadata": {},
   "outputs": [],
   "source": [
    "@create_component_from_func\n",
    "def random_forest():\n",
    "    import os\n",
    "    os.system(\"pip install pandas scikit-learn\")\n",
    "    import pandas as pd\n",
    "    from sklearn.ensemble import RandomForestClassifier\n",
    "    train = pd.read_csv('/kfs_private/train.csv')\n",
    "    test = pd.read_csv('/kfs_private/test.csv')\n",
    "    x_train, y_train = train.drop(columns=['y'], axis=1), train['y']\n",
    "    x_test, y_test = test.drop(columns=['y'], axis=1), test['y']\n",
    "    clf = RandomForestClassifier()\n",
    "    clf.fit(x_train, y_train)\n",
    "    print(clf.score(x_test, y_test))"
   ]
  },
  {
   "cell_type": "markdown",
   "id": "6dc8e4b6-22e7-4806-8b92-224967ae3ece",
   "metadata": {},
   "source": [
    "<div style=\"border-radius:10px; border:#DEB887 solid; padding: 15px; background-color: #FFFAF0; font-size:100%; text-align:left\">\n",
    "<h3 align=\"left\"><font color='#DEB887'> Exit handler </font></h3>\n",
    "    \n",
    "This method is going to be used as a exit handler for the pipeline\n",
    "\n",
    "that means this method is going to be executed at the end of the pipeline regardless, wheather pipeline executes successfully or not"
   ]
  },
  {
   "cell_type": "code",
   "execution_count": null,
   "id": "c6d4cd1f-148b-4686-9350-937fe26a6185",
   "metadata": {},
   "outputs": [],
   "source": [
    "@create_component_from_func\n",
    "def echo_msg(msg: str):\n",
    "    \"\"\"Echo a message by parameter.\"\"\"\n",
    "    print(msg)"
   ]
  },
  {
   "cell_type": "markdown",
   "id": "24653ce6-7a33-4e88-afcc-69ecedb4dead",
   "metadata": {},
   "source": [
    "<div class=\"alert alert-block alert-info\" style=\"font-size:14px; font-family:verdana; line-height: 1.7em;\">\n",
    "<font size='5pt'><b>Pipeline creation</b></font>\n",
    "    \n",
    "\n",
    "This method is where the pipeline design is happening. All of the components are kept under dsl.ExitHandler, so that they get executed first then at the end exit_task gets executed. This exit handler can be used to do something that is necessary even if the pipeline fails.\n",
    "\n",
    "\r\n",
    ".after is used with a component to create dependencies between different components, so that they don't execute parallally but gets executed sequencially even without any internal dependency between componen\n",
    ".\r\n",
    "\r\n",
    ".set_retry() is used to re-run a compoent if it fails, because the failure can be due to some internal issue and can be resolved with a re-run. Then instead of reruning a entire pipeline using .set_retry() and passing number of times to retry can be save a lot of &  and reso.<br>urces"
   ]
  },
  {
   "cell_type": "code",
   "execution_count": null,
   "id": "ec9157e4-7885-49ac-b2b6-ae42e5535ebb",
   "metadata": {},
   "outputs": [],
   "source": [
    "@dsl.pipeline(\n",
    "    name='Wine quality pipeline',\n",
    "    description='A pipeline that trains on wine quality dataset'\n",
    ")\n",
    "def wine_pipeline():\n",
    "    private_storage_bucket_name = \"<Your-storage-bucket-name>\"\n",
    "    exit_task = echo_msg('Pipeline finished running.Exiting.....')\n",
    "    # dsl.ExitHandler, this helps in control what happends at the end of the pipeline\n",
    "    with dsl.ExitHandler(exit_task): \n",
    "        get_data_task = data_loading_splitting().add_pvolumes({ '/kfs_private':dsl.PipelineVolume(pvc=private_storage_bucket_name) }).set_retry(2) # if the pod fails it'll try to re-execute it\n",
    "        logistic_regression_task = logistic_regression().add_pvolumes({ '/kfs_private':dsl.PipelineVolume(pvc=private_storage_bucket_name) }).set_retry(2)\n",
    "        random_forest_task = random_forest().add_pvolumes({ '/kfs_private':dsl.PipelineVolume(pvc=private_storage_bucket_name) }).set_retry(2)\n",
    "        decision_tree_task = decision_tree().add_pvolumes({ '/kfs_private':dsl.PipelineVolume(pvc=private_storage_bucket_name) }).set_retry(2)\n",
    "        random_forest_task.after(get_data_task) # random_forest_task executes after get_data_task\n",
    "        decision_tree_task.after(get_data_task)\n",
    "        logistic_regression_task.after(get_data_task)"
   ]
  },
  {
   "cell_type": "code",
   "execution_count": null,
   "id": "a694cbe3-4acd-4de8-948f-b9b283cefb77",
   "metadata": {},
   "outputs": [],
   "source": [
    "from datetime import datetime\n",
    "import uuid\n",
    "EXPERIMENT_NAME = \"wine_pipeline\"\n",
    "pipeline_func = wine_pipeline\n",
    "arguments={}\n",
    "pipeline_filename = pipeline_func.__name__ + f'{uuid.uuid1()}.pipeline.yaml'\n",
    "kfp.compiler.Compiler().compile(pipeline_func, pipeline_filename)\n",
    "client = kfp.Client()\n",
    "experiment = client.create_experiment(EXPERIMENT_NAME)\n",
    "run_name = pipeline_func.__name__ + str(datetime.now().strftime(\"%d-%m-%Y-%H-%M-%S\"))\n",
    "client.upload_pipeline(pipeline_filename)\n",
    "run_result = client.run_pipeline(experiment.id, run_name, pipeline_filename, arguments)"
   ]
  }
 ],
 "metadata": {
  "kernelspec": {
   "display_name": "Python 3 (ipykernel)",
   "language": "python",
   "name": "python3"
  },
  "language_info": {
   "codemirror_mode": {
    "name": "ipython",
    "version": 3
   },
   "file_extension": ".py",
   "mimetype": "text/x-python",
   "name": "python",
   "nbconvert_exporter": "python",
   "pygments_lexer": "ipython3",
   "version": "3.11.7"
  }
 },
 "nbformat": 4,
 "nbformat_minor": 5
}
