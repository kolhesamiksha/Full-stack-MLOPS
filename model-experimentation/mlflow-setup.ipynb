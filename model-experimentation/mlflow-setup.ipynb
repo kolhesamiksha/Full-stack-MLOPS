{
 "cells": [
  {
   "cell_type": "markdown",
   "id": "5b6a2da9-b5b1-41b3-9532-a77e6dbdc292",
   "metadata": {},
   "source": [
    "## Lanuch Your Mlflow UI with Ngrok"
   ]
  },
  {
   "cell_type": "code",
   "execution_count": null,
   "id": "5d5492b7-e728-4478-8704-cab96e90ba48",
   "metadata": {
    "tags": []
   },
   "outputs": [],
   "source": [
    "!pip install mlflow\n",
    "!pip install pyngrok"
   ]
  },
  {
   "cell_type": "code",
   "execution_count": null,
   "id": "3cf1adbc-2d5b-49cb-b173-be5ec59c190d",
   "metadata": {
    "tags": []
   },
   "outputs": [],
   "source": [
    "!pip install -q subprocess-tee"
   ]
  },
  {
   "cell_type": "code",
   "execution_count": null,
   "id": "3942b28c-0a3c-4267-b9e5-f9bbf5930d47",
   "metadata": {
    "tags": []
   },
   "outputs": [],
   "source": [
    "import mlflow\n",
    "import subprocess\n",
    "from pyngrok import ngrok, conf\n",
    "import getpass"
   ]
  },
  {
   "cell_type": "code",
   "execution_count": null,
   "id": "f02e6d33-69ab-4f60-b990-76b514503aee",
   "metadata": {
    "tags": []
   },
   "outputs": [],
   "source": [
    "MLFLOW_TRACKING_URI = \"sqlite:///mlflow.db\"\n",
    "subprocess.Popen([\"mlflow\", \"ui\", \"--backend-store-uri\", MLFLOW_TRACKING_URI])"
   ]
  },
  {
   "cell_type": "code",
   "execution_count": null,
   "id": "7b402c45-44da-421c-94e3-d8d4cd6a143a",
   "metadata": {
    "tags": []
   },
   "outputs": [],
   "source": [
    "mlflow.set_tracking_uri(MLFLOW_TRACKING_URI)\n",
    "# mlflow will create an experiment if it doesn't exist\n",
    "mlflow.set_experiment(\"mlflow-setup-demo\")"
   ]
  },
  {
   "cell_type": "code",
   "execution_count": null,
   "id": "a97bb8f7-c6bd-4cb6-9d10-559eee6a91aa",
   "metadata": {
    "tags": []
   },
   "outputs": [],
   "source": [
    "print(\"Enter your authtoken, which can be copied from https://dashboard.ngrok.com/auth\")\n",
    "conf.get_default().auth_token = getpass.getpass()\n",
    "port=5000\n",
    "public_url = ngrok.connect(port).public_url\n",
    "print(f' * ngrok tunnel \\\"{public_url}\\\" -> \\\"http://127.0.0.1:{port}\\\"')"
   ]
  },
  {
   "cell_type": "code",
   "execution_count": null,
   "id": "d8cc928b-95c4-4dc1-9a14-fdc01ed247bc",
   "metadata": {},
   "outputs": [],
   "source": []
  }
 ],
 "metadata": {
  "kernelspec": {
   "display_name": "Python 3 (ipykernel)",
   "language": "python",
   "name": "python3"
  },
  "language_info": {
   "codemirror_mode": {
    "name": "ipython",
    "version": 3
   },
   "file_extension": ".py",
   "mimetype": "text/x-python",
   "name": "python",
   "nbconvert_exporter": "python",
   "pygments_lexer": "ipython3",
   "version": "3.11.5"
  }
 },
 "nbformat": 4,
 "nbformat_minor": 5
}
